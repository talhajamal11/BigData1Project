{
 "cells": [
  {
   "cell_type": "markdown",
   "metadata": {},
   "source": [
    "# Import Modules"
   ]
  },
  {
   "cell_type": "code",
   "execution_count": 25,
   "metadata": {},
   "outputs": [],
   "source": [
    "import os\n",
    "import pandas as pd\n",
    "import numpy as np\n",
    "import scipy.optimize as sc \n",
    "import plotly.graph_objects as go\n",
    "import plotly.io as pio\n",
    "from IPython.display import Image"
   ]
  },
  {
   "cell_type": "markdown",
   "metadata": {},
   "source": [
    "# Data Preprocessing"
   ]
  },
  {
   "cell_type": "code",
   "execution_count": 26,
   "metadata": {},
   "outputs": [],
   "source": [
    "# Import data from files\n",
    "os.chdir('/Users/talhajamal/Desktop/Code/BigData1Project')\n",
    "data = pd.read_csv(\"data/Returns_Data.csv\")\n",
    "data['date'] = pd.to_datetime(data['date'], dayfirst=False)\n",
    "characteristics = pd.read_csv(\"data/Stock_Characteristics_Data.csv\")\n",
    "dictionary = pd.read_excel(\"data/StockDataDictionary.xlsx\")\n",
    "\n",
    "# Create new dataframes\n",
    "prices = data.pivot(index='date', columns='ticker', values='PRC')\n",
    "volume = data.pivot(index='date', columns='ticker', values='VOL')\n",
    "returns = data.pivot(index='date', columns='ticker', values='RET')\n",
    "#returns = returns * 100 # Scale returns to percentage\n",
    "# Summary of Returns\n",
    "returns_summary = returns.describe()\n",
    "shares_outstanding = data.pivot(index='date', columns='ticker', values='SHROUT')\n",
    "value_weighted_returns = data.pivot(index='date', columns='ticker', values='vwretd')\n",
    "equal_weighted_returns = data.pivot(index='date', columns='ticker', values='ewretd')\n",
    "tickers = prices.columns # List of Tickers"
   ]
  },
  {
   "cell_type": "markdown",
   "metadata": {},
   "source": [
    "# Functions"
   ]
  },
  {
   "cell_type": "code",
   "execution_count": 27,
   "metadata": {},
   "outputs": [],
   "source": [
    "def portfolioPerformance(weights, meanReturns, covMatrix):\n",
    "    \"\"\" Calculate Portfolio Performance\"\"\"\n",
    "    annualizedReturns = np.sum(meanReturns*weights)*252\n",
    "    annualizedStd = np.sqrt( np.dot(weights.T, np.dot(covMatrix, weights)) ) * np.sqrt(252)\n",
    "    return annualizedReturns*100, annualizedStd*100\n",
    "\n",
    "def portfolioVariance(weights, meanReturns, covMatrix):\n",
    "    \"\"\" Return Portfolio Variance \"\"\"\n",
    "    return portfolioPerformance(weights, meanReturns, covMatrix)[1]\n",
    "\n",
    "def portfolioReturn(weights, meanReturns, covMatrix):\n",
    "    \"\"\" Return Portfolio Return \"\"\"\n",
    "    return portfolioPerformance(weights, meanReturns, covMatrix)[0]\n",
    "\n",
    "def negativeSR(weights, meanReturns, covMatrix,riskFreeRate = 0):\n",
    "    \"\"\" Calculate Negative Sharpe so that Optimizer works on it and minimizes it -> essentially maximising it\"\"\"\n",
    "    annualizedRet, annualizedStd = portfolioPerformance(weights, meanReturns, covMatrix)\n",
    "    return - ((annualizedRet - riskFreeRate)/annualizedStd)\n",
    "\n",
    "def maxSR(meanReturns, covMatrix, riskFreeRate = 0, constraintSet = (0, 1)):\n",
    "    \"\"\" Minimize the negative Sharpe Ratio -> Maximize it\"\"\"\n",
    "    numAssets = len(meanReturns)\n",
    "    args = (meanReturns, covMatrix, riskFreeRate)\n",
    "    constraints = ({'type':'eq','fun': lambda x: np.sum(x) - 1 }) # Weights must sum up to 1\n",
    "    bound = constraintSet\n",
    "    bounds = tuple(bound for asset in range(numAssets)) # For every asset have this bound\n",
    "    result = sc.minimize(negativeSR, x0=numAssets*[1./numAssets], args=args, \n",
    "                         method='SLSQP', bounds=bounds, constraints=constraints)\n",
    "    return result\n",
    "\n",
    "def minimizeVariance(meanReturns, covMatrix, riskFreeRate = 0, constraintSet = (0, 1)):\n",
    "    \"\"\" Minimize the portfolio variance by altering the weights/allocations of assets in the portfolio\"\"\"\n",
    "    numAssets = len(meanReturns)\n",
    "    args = (meanReturns, covMatrix)\n",
    "    constraints = ({'type':'eq','fun': lambda x: np.sum(x) - 1 }) # Weights must sum up to 1\n",
    "    bound = constraintSet\n",
    "    bounds = tuple(bound for asset in range(numAssets)) # For every asset have this bound\n",
    "    result = sc.minimize(portfolioVariance, x0=numAssets*[1./numAssets], args=args, \n",
    "                         method='SLSQP', bounds=bounds, constraints=constraints)\n",
    "    return result\n",
    "\n",
    "def meanVarianceOptimiser(meanReturns, covMatrix, returnTarget, constraintSet=(0,1)):\n",
    "    \"\"\" For each return target, optimize the portfolio for minimum variance\"\"\"\n",
    "    numAssets = len(meanReturns)\n",
    "    args = (meanReturns, covMatrix)\n",
    "    constraints = ({'type':'eq', 'fun':lambda x: portfolioReturn(x, meanReturns, covMatrix) - returnTarget},\n",
    "                   {'type':'eq','fun': lambda x: np.sum(x) - 1 }\n",
    "                   )\n",
    "    bound = constraintSet\n",
    "    bounds = tuple(bound for asset in range(numAssets))\n",
    "    optimizedResults = sc.minimize(portfolioVariance, numAssets*[1./numAssets], args=args, \n",
    "                                   method='SLSQP', constraints=constraints, bounds=bounds)\n",
    "    return optimizedResults\n",
    "\n",
    "def eqWeightPortfolioPerformance(meanReturns, covMatrix, returns):\n",
    "    \"\"\" Return the Performance of an Equally Weighted Portfolio\"\"\"\n",
    "    weights = np.array([1/100 for _ in returns])\n",
    "    equalWeightedPortfolioReturns, equalWeightedPortfolioVolatility = portfolioPerformance(weights, meanReturns, covMatrix)\n",
    "    equalWeightedPortfolioSR = (-1) * negativeSR(weights, meanReturns, covMatrix)\n",
    "    print(f\"Equal Weighted Portfolio Returns: {round(equalWeightedPortfolioReturns, 2)} %\")\n",
    "    print(f\"Equal Weighted Portfolio Volatility: {round(equalWeightedPortfolioVolatility, 2)} %\")\n",
    "    print(f\"Equal Weighted Portfolio SR: {round(equalWeightedPortfolioSR, 2)}\")\n",
    "    return equalWeightedPortfolioReturns, equalWeightedPortfolioVolatility, equalWeightedPortfolioSR\n",
    "    \n",
    "def maxSRPortfolioPerformance(meanReturns, covMatrix):\n",
    "    \"\"\" Return the Performance of the Maximum SR Portfolio\"\"\"\n",
    "    maxSRPortfolioPerformance = maxSR(meanReturns, covMatrix)\n",
    "    maxSRPortfolioWeights = maxSRPortfolioPerformance.x\n",
    "    maxSRPortfolioReturns, maxSRPortfolioVolatility = portfolioPerformance(maxSRPortfolioWeights, meanReturns, covMatrix)\n",
    "    maxSRPortfolioSR = maxSRPortfolioPerformance.fun * (-1)\n",
    "    print(f\"Max SR Portfolio Returns: {round(maxSRPortfolioReturns, 2)} %\")\n",
    "    print(f\"Max SR Portfolio Volatility: {round(maxSRPortfolioVolatility, 2)} %\")\n",
    "    print(f\"Max SR Portfolio SR: {round(maxSRPortfolioSR, 2)}\")\n",
    "    return maxSRPortfolioReturns, maxSRPortfolioVolatility, maxSRPortfolioSR, maxSRPortfolioWeights\n",
    "\n",
    "def minVariancePortfolioPerformance(meanReturns, covMatrix):\n",
    "    \"\"\" Return the Performance of the Minimum Variance Portfolio\"\"\"\n",
    "    minVariancePortfolioPerformance = minimizeVariance(meanReturns, covMatrix)\n",
    "    minVariancePortfolioWeights = minVariancePortfolioPerformance.x\n",
    "    minVariancePortfolioReturns, minVariancePortfolioVolatility = portfolioPerformance(minVariancePortfolioWeights, meanReturns, covMatrix)\n",
    "    minVariancePortfolioSR = (-1) * negativeSR(minVariancePortfolioWeights, meanReturns, covMatrix)\n",
    "    print(f\"Min Variance Portfolio Returns: {round(minVariancePortfolioReturns, 2)} %\")\n",
    "    print(f\"Min Variance Portfolio Volatility: {round(minVariancePortfolioVolatility, 2)} %\")\n",
    "    print(f\"Min Variance Portfolio SR: {round(minVariancePortfolioSR, 2)}\")\n",
    "    return minVariancePortfolioReturns, minVariancePortfolioVolatility, minVariancePortfolioSR, minVariancePortfolioWeights\n",
    "\n",
    "def EF_generator(minVariancePortfolioReturns, maxSRPortfolioReturns, meanReturns, covMatrix):\n",
    "    \"\"\" Generate the List for the Efficient Frontier\"\"\"\n",
    "    targetReturns = np.linspace(minVariancePortfolioReturns, 25, 20)\n",
    "    efficientFrontier = []\n",
    "    for target in targetReturns:\n",
    "        efficientFrontier.append(meanVarianceOptimiser(meanReturns, covMatrix, returnTarget=target)['fun'])\n",
    "    return efficientFrontier, targetReturns\n",
    "\n",
    "def EF_graph(meanReturns, covMatrix, riskFreeRate = 0, constraintSet = (0, 1)):\n",
    "    \"\"\" Return a Graph plotting the min vol, max sr, and efficient frontier\"\"\"\n",
    "    \n",
    "    maxSRPortfolioRet, maxSRPortfolioVol, maxSRPortfolioSR, maxSRPortfolioWeights = maxSRPortfolioPerformance(meanReturns, covMatrix)\n",
    "    minVarPortfolioRet, minVarPortfolioVol, minVarPortfolioSR, minVariancePortfolioWeights = minVariancePortfolioPerformance(meanReturns, covMatrix)\n",
    "\n",
    "    efficientList, targetReturns = EF_generator(minVarPortfolioRet, maxSRPortfolioRet, meanReturns, covMatrix)\n",
    "\n",
    "    # Plot the Equal Weighted Portfolio\n",
    "    eqWRet, eqWVol, eqWSR = eqWeightPortfolioPerformance(meanReturns, covMatrix, returns)\n",
    "    eqWeightedPortfolio = go.Scatter(\n",
    "        name='Equally Weighted Portfolio',\n",
    "        mode = 'markers',\n",
    "        x = [eqWVol],\n",
    "        y = [eqWRet],\n",
    "        marker = dict(color='yellow', size=14, line=dict(width=3, color='black') )\n",
    "    )\n",
    "\n",
    "\n",
    "    # Plot the Max SR\n",
    "    MaxSharpeRatio = go.Scatter(\n",
    "        name='Max Sharpe Ratio',\n",
    "        mode='markers',\n",
    "        x = [maxSRPortfolioVol],\n",
    "        y = [maxSRPortfolioRet],\n",
    "        marker = dict(color='red', size=14, line=dict(width=3, color='black') )\n",
    "    )\n",
    "\n",
    "    # Plot the Min vol\n",
    "    MinVol = go.Scatter(\n",
    "        name='Min Volatility',\n",
    "        mode='markers',\n",
    "        x = [minVarPortfolioVol],\n",
    "        y = [minVarPortfolioRet],\n",
    "        marker = dict(color='green', size=14, line=dict(width=3, color='black') )\n",
    "    )\n",
    "\n",
    "    # Plot the Efficient Frontier\n",
    "    EF_curve = go.Scatter(\n",
    "        name='Efficient Frontier',\n",
    "        mode='lines',\n",
    "        x = [round(ef_std, 2) for ef_std in efficientList],\n",
    "        y = [round(target, 2) for target in targetReturns],\n",
    "        line = dict(color='black', width=4, dash='dashdot')\n",
    "    )\n",
    "\n",
    "    data = [MaxSharpeRatio, MinVol, eqWeightedPortfolio, EF_curve]\n",
    "    \n",
    "    layout = go.Layout(\n",
    "        title = {\n",
    "            'text':'Comparison of Portfolios via Mean Variance Optimization',\n",
    "            'y':0.9,\n",
    "            'x':0.5,\n",
    "            'xanchor':'center',\n",
    "            'yanchor':'top'\n",
    "        },\n",
    "        yaxis = dict(title='Annualized Returns (%)'),\n",
    "        xaxis= dict(title='Annualized Volatility (%)'),\n",
    "        showlegend= True,\n",
    "        legend= dict(\n",
    "                    x=0.7, \n",
    "                    y=0, \n",
    "                    traceorder='normal', \n",
    "                    bgcolor='#E2E2E2', \n",
    "                    bordercolor='black', \n",
    "                    borderwidth=2),\n",
    "        width=800,\n",
    "        height=600)\n",
    "    \n",
    "    fig = go.Figure(data=data, layout=layout)\n",
    "\n",
    "    pio.write_image(fig, 'MeanVariancePortfolioOptimization.png')\n",
    "\n",
    "    return fig.show()"
   ]
  },
  {
   "cell_type": "markdown",
   "metadata": {},
   "source": [
    "# Mean Returns and CovMatrix"
   ]
  },
  {
   "cell_type": "code",
   "execution_count": 28,
   "metadata": {},
   "outputs": [],
   "source": [
    "meanReturns = returns.mean()\n",
    "covMatrix = returns.cov()"
   ]
  },
  {
   "cell_type": "markdown",
   "metadata": {},
   "source": [
    "# Equal Weighted Portfolio"
   ]
  },
  {
   "cell_type": "code",
   "execution_count": 29,
   "metadata": {},
   "outputs": [
    {
     "name": "stdout",
     "output_type": "stream",
     "text": [
      "Equal Weighted Portfolio Returns: 15.93 %\n",
      "Equal Weighted Portfolio Volatility: 18.62 %\n",
      "Equal Weighted Portfolio SR: 0.86\n"
     ]
    }
   ],
   "source": [
    "equalWeightedPortfolioRet, equalWeightedPortfolioVol, equalWeightedPortfolioSR = eqWeightPortfolioPerformance(meanReturns, \n",
    "                                                                                                              covMatrix, \n",
    "                                                                                                              returns)"
   ]
  },
  {
   "cell_type": "markdown",
   "metadata": {},
   "source": [
    "# Max SR Portfolio"
   ]
  },
  {
   "cell_type": "code",
   "execution_count": 30,
   "metadata": {},
   "outputs": [
    {
     "name": "stdout",
     "output_type": "stream",
     "text": [
      "Max SR Portfolio Returns: 22.68 %\n",
      "Max SR Portfolio Volatility: 15.51 %\n",
      "Max SR Portfolio SR: 1.46\n"
     ]
    }
   ],
   "source": [
    "maxSRPortfolioRet, maxSRPortfolioVol, maxSRPortfolioSR, maxSRPortfolioWeights = maxSRPortfolioPerformance(meanReturns, covMatrix)"
   ]
  },
  {
   "cell_type": "markdown",
   "metadata": {},
   "source": [
    "# Min Variance Portfolio"
   ]
  },
  {
   "cell_type": "code",
   "execution_count": 31,
   "metadata": {},
   "outputs": [
    {
     "name": "stdout",
     "output_type": "stream",
     "text": [
      "Min Variance Portfolio Returns: 13.33 %\n",
      "Min Variance Portfolio Volatility: 12.82 %\n",
      "Min Variance Portfolio SR: 1.04\n"
     ]
    }
   ],
   "source": [
    "minVarPortfolioRet, minVarPortfolioVol, minVarPortfolioSR, minVariancePortfolioWeights = minVariancePortfolioPerformance(meanReturns, covMatrix)"
   ]
  },
  {
   "cell_type": "markdown",
   "metadata": {},
   "source": [
    "# Efficient Frontier"
   ]
  },
  {
   "cell_type": "code",
   "execution_count": 32,
   "metadata": {},
   "outputs": [
    {
     "name": "stdout",
     "output_type": "stream",
     "text": [
      "Max SR Portfolio Returns: 22.68 %\n",
      "Max SR Portfolio Volatility: 15.51 %\n",
      "Max SR Portfolio SR: 1.46\n",
      "Min Variance Portfolio Returns: 13.33 %\n",
      "Min Variance Portfolio Volatility: 12.82 %\n",
      "Min Variance Portfolio SR: 1.04\n",
      "Equal Weighted Portfolio Returns: 15.93 %\n",
      "Equal Weighted Portfolio Volatility: 18.62 %\n",
      "Equal Weighted Portfolio SR: 0.86\n"
     ]
    },
    {
     "data": {
      "application/vnd.plotly.v1+json": {
       "config": {
        "plotlyServerURL": "https://plot.ly"
       },
       "data": [
        {
         "marker": {
          "color": "red",
          "line": {
           "color": "black",
           "width": 3
          },
          "size": 14
         },
         "mode": "markers",
         "name": "Max Sharpe Ratio",
         "type": "scatter",
         "x": [
          15.509767741809984
         ],
         "y": [
          22.681563109201992
         ]
        },
        {
         "marker": {
          "color": "green",
          "line": {
           "color": "black",
           "width": 3
          },
          "size": 14
         },
         "mode": "markers",
         "name": "Min Volatility",
         "type": "scatter",
         "x": [
          12.818747708450138
         ],
         "y": [
          13.33147201486067
         ]
        },
        {
         "marker": {
          "color": "yellow",
          "line": {
           "color": "black",
           "width": 3
          },
          "size": 14
         },
         "mode": "markers",
         "name": "Equally Weighted Portfolio",
         "type": "scatter",
         "x": [
          18.619823475582756
         ],
         "y": [
          15.931604359696639
         ]
        },
        {
         "line": {
          "color": "black",
          "dash": "dashdot",
          "width": 4
         },
         "mode": "lines",
         "name": "Efficient Frontier",
         "type": "scatter",
         "x": [
          12.82,
          12.83,
          12.87,
          12.92,
          13,
          13.1,
          13.22,
          13.36,
          13.53,
          13.72,
          13.94,
          14.18,
          14.44,
          14.73,
          15.04,
          15.42,
          15.85,
          16.35,
          16.9,
          17.51
         ],
         "y": [
          13.33,
          13.95,
          14.56,
          15.17,
          15.79,
          16.4,
          17.02,
          17.63,
          18.24,
          18.86,
          19.47,
          20.09,
          20.7,
          21.32,
          21.93,
          22.54,
          23.16,
          23.77,
          24.39,
          25
         ]
        }
       ],
       "layout": {
        "height": 600,
        "legend": {
         "bgcolor": "#E2E2E2",
         "bordercolor": "black",
         "borderwidth": 2,
         "traceorder": "normal",
         "x": 0.7,
         "y": 0
        },
        "showlegend": true,
        "template": {
         "data": {
          "bar": [
           {
            "error_x": {
             "color": "#2a3f5f"
            },
            "error_y": {
             "color": "#2a3f5f"
            },
            "marker": {
             "line": {
              "color": "#E5ECF6",
              "width": 0.5
             },
             "pattern": {
              "fillmode": "overlay",
              "size": 10,
              "solidity": 0.2
             }
            },
            "type": "bar"
           }
          ],
          "barpolar": [
           {
            "marker": {
             "line": {
              "color": "#E5ECF6",
              "width": 0.5
             },
             "pattern": {
              "fillmode": "overlay",
              "size": 10,
              "solidity": 0.2
             }
            },
            "type": "barpolar"
           }
          ],
          "carpet": [
           {
            "aaxis": {
             "endlinecolor": "#2a3f5f",
             "gridcolor": "white",
             "linecolor": "white",
             "minorgridcolor": "white",
             "startlinecolor": "#2a3f5f"
            },
            "baxis": {
             "endlinecolor": "#2a3f5f",
             "gridcolor": "white",
             "linecolor": "white",
             "minorgridcolor": "white",
             "startlinecolor": "#2a3f5f"
            },
            "type": "carpet"
           }
          ],
          "choropleth": [
           {
            "colorbar": {
             "outlinewidth": 0,
             "ticks": ""
            },
            "type": "choropleth"
           }
          ],
          "contour": [
           {
            "colorbar": {
             "outlinewidth": 0,
             "ticks": ""
            },
            "colorscale": [
             [
              0,
              "#0d0887"
             ],
             [
              0.1111111111111111,
              "#46039f"
             ],
             [
              0.2222222222222222,
              "#7201a8"
             ],
             [
              0.3333333333333333,
              "#9c179e"
             ],
             [
              0.4444444444444444,
              "#bd3786"
             ],
             [
              0.5555555555555556,
              "#d8576b"
             ],
             [
              0.6666666666666666,
              "#ed7953"
             ],
             [
              0.7777777777777778,
              "#fb9f3a"
             ],
             [
              0.8888888888888888,
              "#fdca26"
             ],
             [
              1,
              "#f0f921"
             ]
            ],
            "type": "contour"
           }
          ],
          "contourcarpet": [
           {
            "colorbar": {
             "outlinewidth": 0,
             "ticks": ""
            },
            "type": "contourcarpet"
           }
          ],
          "heatmap": [
           {
            "colorbar": {
             "outlinewidth": 0,
             "ticks": ""
            },
            "colorscale": [
             [
              0,
              "#0d0887"
             ],
             [
              0.1111111111111111,
              "#46039f"
             ],
             [
              0.2222222222222222,
              "#7201a8"
             ],
             [
              0.3333333333333333,
              "#9c179e"
             ],
             [
              0.4444444444444444,
              "#bd3786"
             ],
             [
              0.5555555555555556,
              "#d8576b"
             ],
             [
              0.6666666666666666,
              "#ed7953"
             ],
             [
              0.7777777777777778,
              "#fb9f3a"
             ],
             [
              0.8888888888888888,
              "#fdca26"
             ],
             [
              1,
              "#f0f921"
             ]
            ],
            "type": "heatmap"
           }
          ],
          "heatmapgl": [
           {
            "colorbar": {
             "outlinewidth": 0,
             "ticks": ""
            },
            "colorscale": [
             [
              0,
              "#0d0887"
             ],
             [
              0.1111111111111111,
              "#46039f"
             ],
             [
              0.2222222222222222,
              "#7201a8"
             ],
             [
              0.3333333333333333,
              "#9c179e"
             ],
             [
              0.4444444444444444,
              "#bd3786"
             ],
             [
              0.5555555555555556,
              "#d8576b"
             ],
             [
              0.6666666666666666,
              "#ed7953"
             ],
             [
              0.7777777777777778,
              "#fb9f3a"
             ],
             [
              0.8888888888888888,
              "#fdca26"
             ],
             [
              1,
              "#f0f921"
             ]
            ],
            "type": "heatmapgl"
           }
          ],
          "histogram": [
           {
            "marker": {
             "pattern": {
              "fillmode": "overlay",
              "size": 10,
              "solidity": 0.2
             }
            },
            "type": "histogram"
           }
          ],
          "histogram2d": [
           {
            "colorbar": {
             "outlinewidth": 0,
             "ticks": ""
            },
            "colorscale": [
             [
              0,
              "#0d0887"
             ],
             [
              0.1111111111111111,
              "#46039f"
             ],
             [
              0.2222222222222222,
              "#7201a8"
             ],
             [
              0.3333333333333333,
              "#9c179e"
             ],
             [
              0.4444444444444444,
              "#bd3786"
             ],
             [
              0.5555555555555556,
              "#d8576b"
             ],
             [
              0.6666666666666666,
              "#ed7953"
             ],
             [
              0.7777777777777778,
              "#fb9f3a"
             ],
             [
              0.8888888888888888,
              "#fdca26"
             ],
             [
              1,
              "#f0f921"
             ]
            ],
            "type": "histogram2d"
           }
          ],
          "histogram2dcontour": [
           {
            "colorbar": {
             "outlinewidth": 0,
             "ticks": ""
            },
            "colorscale": [
             [
              0,
              "#0d0887"
             ],
             [
              0.1111111111111111,
              "#46039f"
             ],
             [
              0.2222222222222222,
              "#7201a8"
             ],
             [
              0.3333333333333333,
              "#9c179e"
             ],
             [
              0.4444444444444444,
              "#bd3786"
             ],
             [
              0.5555555555555556,
              "#d8576b"
             ],
             [
              0.6666666666666666,
              "#ed7953"
             ],
             [
              0.7777777777777778,
              "#fb9f3a"
             ],
             [
              0.8888888888888888,
              "#fdca26"
             ],
             [
              1,
              "#f0f921"
             ]
            ],
            "type": "histogram2dcontour"
           }
          ],
          "mesh3d": [
           {
            "colorbar": {
             "outlinewidth": 0,
             "ticks": ""
            },
            "type": "mesh3d"
           }
          ],
          "parcoords": [
           {
            "line": {
             "colorbar": {
              "outlinewidth": 0,
              "ticks": ""
             }
            },
            "type": "parcoords"
           }
          ],
          "pie": [
           {
            "automargin": true,
            "type": "pie"
           }
          ],
          "scatter": [
           {
            "fillpattern": {
             "fillmode": "overlay",
             "size": 10,
             "solidity": 0.2
            },
            "type": "scatter"
           }
          ],
          "scatter3d": [
           {
            "line": {
             "colorbar": {
              "outlinewidth": 0,
              "ticks": ""
             }
            },
            "marker": {
             "colorbar": {
              "outlinewidth": 0,
              "ticks": ""
             }
            },
            "type": "scatter3d"
           }
          ],
          "scattercarpet": [
           {
            "marker": {
             "colorbar": {
              "outlinewidth": 0,
              "ticks": ""
             }
            },
            "type": "scattercarpet"
           }
          ],
          "scattergeo": [
           {
            "marker": {
             "colorbar": {
              "outlinewidth": 0,
              "ticks": ""
             }
            },
            "type": "scattergeo"
           }
          ],
          "scattergl": [
           {
            "marker": {
             "colorbar": {
              "outlinewidth": 0,
              "ticks": ""
             }
            },
            "type": "scattergl"
           }
          ],
          "scattermapbox": [
           {
            "marker": {
             "colorbar": {
              "outlinewidth": 0,
              "ticks": ""
             }
            },
            "type": "scattermapbox"
           }
          ],
          "scatterpolar": [
           {
            "marker": {
             "colorbar": {
              "outlinewidth": 0,
              "ticks": ""
             }
            },
            "type": "scatterpolar"
           }
          ],
          "scatterpolargl": [
           {
            "marker": {
             "colorbar": {
              "outlinewidth": 0,
              "ticks": ""
             }
            },
            "type": "scatterpolargl"
           }
          ],
          "scatterternary": [
           {
            "marker": {
             "colorbar": {
              "outlinewidth": 0,
              "ticks": ""
             }
            },
            "type": "scatterternary"
           }
          ],
          "surface": [
           {
            "colorbar": {
             "outlinewidth": 0,
             "ticks": ""
            },
            "colorscale": [
             [
              0,
              "#0d0887"
             ],
             [
              0.1111111111111111,
              "#46039f"
             ],
             [
              0.2222222222222222,
              "#7201a8"
             ],
             [
              0.3333333333333333,
              "#9c179e"
             ],
             [
              0.4444444444444444,
              "#bd3786"
             ],
             [
              0.5555555555555556,
              "#d8576b"
             ],
             [
              0.6666666666666666,
              "#ed7953"
             ],
             [
              0.7777777777777778,
              "#fb9f3a"
             ],
             [
              0.8888888888888888,
              "#fdca26"
             ],
             [
              1,
              "#f0f921"
             ]
            ],
            "type": "surface"
           }
          ],
          "table": [
           {
            "cells": {
             "fill": {
              "color": "#EBF0F8"
             },
             "line": {
              "color": "white"
             }
            },
            "header": {
             "fill": {
              "color": "#C8D4E3"
             },
             "line": {
              "color": "white"
             }
            },
            "type": "table"
           }
          ]
         },
         "layout": {
          "annotationdefaults": {
           "arrowcolor": "#2a3f5f",
           "arrowhead": 0,
           "arrowwidth": 1
          },
          "autotypenumbers": "strict",
          "coloraxis": {
           "colorbar": {
            "outlinewidth": 0,
            "ticks": ""
           }
          },
          "colorscale": {
           "diverging": [
            [
             0,
             "#8e0152"
            ],
            [
             0.1,
             "#c51b7d"
            ],
            [
             0.2,
             "#de77ae"
            ],
            [
             0.3,
             "#f1b6da"
            ],
            [
             0.4,
             "#fde0ef"
            ],
            [
             0.5,
             "#f7f7f7"
            ],
            [
             0.6,
             "#e6f5d0"
            ],
            [
             0.7,
             "#b8e186"
            ],
            [
             0.8,
             "#7fbc41"
            ],
            [
             0.9,
             "#4d9221"
            ],
            [
             1,
             "#276419"
            ]
           ],
           "sequential": [
            [
             0,
             "#0d0887"
            ],
            [
             0.1111111111111111,
             "#46039f"
            ],
            [
             0.2222222222222222,
             "#7201a8"
            ],
            [
             0.3333333333333333,
             "#9c179e"
            ],
            [
             0.4444444444444444,
             "#bd3786"
            ],
            [
             0.5555555555555556,
             "#d8576b"
            ],
            [
             0.6666666666666666,
             "#ed7953"
            ],
            [
             0.7777777777777778,
             "#fb9f3a"
            ],
            [
             0.8888888888888888,
             "#fdca26"
            ],
            [
             1,
             "#f0f921"
            ]
           ],
           "sequentialminus": [
            [
             0,
             "#0d0887"
            ],
            [
             0.1111111111111111,
             "#46039f"
            ],
            [
             0.2222222222222222,
             "#7201a8"
            ],
            [
             0.3333333333333333,
             "#9c179e"
            ],
            [
             0.4444444444444444,
             "#bd3786"
            ],
            [
             0.5555555555555556,
             "#d8576b"
            ],
            [
             0.6666666666666666,
             "#ed7953"
            ],
            [
             0.7777777777777778,
             "#fb9f3a"
            ],
            [
             0.8888888888888888,
             "#fdca26"
            ],
            [
             1,
             "#f0f921"
            ]
           ]
          },
          "colorway": [
           "#636efa",
           "#EF553B",
           "#00cc96",
           "#ab63fa",
           "#FFA15A",
           "#19d3f3",
           "#FF6692",
           "#B6E880",
           "#FF97FF",
           "#FECB52"
          ],
          "font": {
           "color": "#2a3f5f"
          },
          "geo": {
           "bgcolor": "white",
           "lakecolor": "white",
           "landcolor": "#E5ECF6",
           "showlakes": true,
           "showland": true,
           "subunitcolor": "white"
          },
          "hoverlabel": {
           "align": "left"
          },
          "hovermode": "closest",
          "mapbox": {
           "style": "light"
          },
          "paper_bgcolor": "white",
          "plot_bgcolor": "#E5ECF6",
          "polar": {
           "angularaxis": {
            "gridcolor": "white",
            "linecolor": "white",
            "ticks": ""
           },
           "bgcolor": "#E5ECF6",
           "radialaxis": {
            "gridcolor": "white",
            "linecolor": "white",
            "ticks": ""
           }
          },
          "scene": {
           "xaxis": {
            "backgroundcolor": "#E5ECF6",
            "gridcolor": "white",
            "gridwidth": 2,
            "linecolor": "white",
            "showbackground": true,
            "ticks": "",
            "zerolinecolor": "white"
           },
           "yaxis": {
            "backgroundcolor": "#E5ECF6",
            "gridcolor": "white",
            "gridwidth": 2,
            "linecolor": "white",
            "showbackground": true,
            "ticks": "",
            "zerolinecolor": "white"
           },
           "zaxis": {
            "backgroundcolor": "#E5ECF6",
            "gridcolor": "white",
            "gridwidth": 2,
            "linecolor": "white",
            "showbackground": true,
            "ticks": "",
            "zerolinecolor": "white"
           }
          },
          "shapedefaults": {
           "line": {
            "color": "#2a3f5f"
           }
          },
          "ternary": {
           "aaxis": {
            "gridcolor": "white",
            "linecolor": "white",
            "ticks": ""
           },
           "baxis": {
            "gridcolor": "white",
            "linecolor": "white",
            "ticks": ""
           },
           "bgcolor": "#E5ECF6",
           "caxis": {
            "gridcolor": "white",
            "linecolor": "white",
            "ticks": ""
           }
          },
          "title": {
           "x": 0.05
          },
          "xaxis": {
           "automargin": true,
           "gridcolor": "white",
           "linecolor": "white",
           "ticks": "",
           "title": {
            "standoff": 15
           },
           "zerolinecolor": "white",
           "zerolinewidth": 2
          },
          "yaxis": {
           "automargin": true,
           "gridcolor": "white",
           "linecolor": "white",
           "ticks": "",
           "title": {
            "standoff": 15
           },
           "zerolinecolor": "white",
           "zerolinewidth": 2
          }
         }
        },
        "title": {
         "text": "Comparison of Portfolios via Mean Variance Optimization",
         "x": 0.5,
         "xanchor": "center",
         "y": 0.9,
         "yanchor": "top"
        },
        "width": 800,
        "xaxis": {
         "title": {
          "text": "Annualized Volatility (%)"
         }
        },
        "yaxis": {
         "title": {
          "text": "Annualized Returns (%)"
         }
        }
       }
      }
     },
     "metadata": {},
     "output_type": "display_data"
    }
   ],
   "source": [
    "EF_graph(meanReturns, covMatrix)"
   ]
  },
  {
   "cell_type": "code",
   "execution_count": 33,
   "metadata": {},
   "outputs": [
    {
     "data": {
      "image/png": "[encoded data removed]",
      "text/plain": [
       "<IPython.core.display.Image object>"
      ]
     },
     "execution_count": 33,
     "metadata": {},
     "output_type": "execute_result"
    }
   ],
   "source": [
    "# Display the PNG image file\n",
    "Image(filename='MeanVariancePortfolioOptimization.png')"
   ]
  }
 ],
 "metadata": {
  "kernelspec": {
   "display_name": "Python 3",
   "language": "python",
   "name": "python3"
  },
  "language_info": {
   "codemirror_mode": {
    "name": "ipython",
    "version": 3
   },
   "file_extension": ".py",
   "mimetype": "text/x-python",
   "name": "python",
   "nbconvert_exporter": "python",
   "pygments_lexer": "ipython3",
   "version": "3.11.3"
  }
 },
 "nbformat": 4,
 "nbformat_minor": 2
}
