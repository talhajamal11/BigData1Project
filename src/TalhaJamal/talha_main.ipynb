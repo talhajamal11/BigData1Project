{
 "cells": [
  {
   "cell_type": "code",
   "execution_count": 4,
   "metadata": {},
   "outputs": [],
   "source": [
    "import os\n",
    "import pandas as pd\n",
    "import numpy as np\n",
    "import scipy.optimize as sc \n",
    "import plotly.graph_objects as go"
   ]
  },
  {
   "cell_type": "markdown",
   "metadata": {},
   "source": [
    "# Import Data"
   ]
  },
  {
   "cell_type": "code",
   "execution_count": 5,
   "metadata": {},
   "outputs": [],
   "source": [
    "# Import data from files\n",
    "os.chdir('/Users/talhajamal/Desktop/Code/BigData1Project')\n",
    "data = pd.read_csv(\"data/Returns_Data.csv\")\n",
    "data['date'] = pd.to_datetime(data['date'], dayfirst=False)\n",
    "characteristics = pd.read_csv(\"data/Stock_Characteristics_Data.csv\")\n",
    "dictionary = pd.read_excel(\"data/StockDataDictionary.xlsx\")\n",
    "\n",
    "# Create new dataframes\n",
    "prices = data.pivot(index='date', columns='ticker', values='PRC')\n",
    "volume = data.pivot(index='date', columns='ticker', values='VOL')\n",
    "returns = data.pivot(index='date', columns='ticker', values='RET')\n",
    "#returns = returns * 100 # Scale returns to percentage\n",
    "# Summary of Returns\n",
    "returns_summary = returns.describe()\n",
    "shares_outstanding = data.pivot(index='date', columns='ticker', values='SHROUT')\n",
    "value_weighted_returns = data.pivot(index='date', columns='ticker', values='vwretd')\n",
    "equal_weighted_returns = data.pivot(index='date', columns='ticker', values='ewretd')\n",
    "tickers = prices.columns # List of Tickers"
   ]
  },
  {
   "cell_type": "markdown",
   "metadata": {},
   "source": [
    "# Functions"
   ]
  },
  {
   "cell_type": "code",
   "execution_count": 20,
   "metadata": {},
   "outputs": [],
   "source": [
    "def portfolioPerformance(weights, meanReturns, covMatrix):\n",
    "    \"\"\" Calculate Portfolio Performance\"\"\"\n",
    "    annualizedReturns = np.sum(meanReturns*weights)*252\n",
    "    annualizedStd = np.sqrt( np.dot(weights.T, np.dot(covMatrix, weights)) ) * np.sqrt(252)\n",
    "    return annualizedReturns*100, annualizedStd*100\n",
    "\n",
    "def portfolioVariance(weights, meanReturns, covMatrix):\n",
    "    \"\"\" Return Portfolio Variance \"\"\"\n",
    "    return portfolioPerformance(weights, meanReturns, covMatrix)[1]\n",
    "\n",
    "def portfolioReturn(weights, meanReturns, covMatrix):\n",
    "    \"\"\" Return Portfolio Return \"\"\"\n",
    "    return portfolioPerformance(weights, meanReturns, covMatrix)[0]\n",
    "\n",
    "def negativeSR(weights, meanReturns, covMatrix,riskFreeRate = 0):\n",
    "    \"\"\" Calculate Negative Sharpe so that Optimizer works on it and minimizes it -> essentially maximising it\"\"\"\n",
    "    annualizedRet, annualizedStd = portfolioPerformance(weights, meanReturns, covMatrix)\n",
    "    return - ((annualizedRet - riskFreeRate)/annualizedStd)\n",
    "\n",
    "def maxSR(meanReturns, covMatrix, riskFreeRate = 0, constraintSet = (0, 1)):\n",
    "    \"\"\" Minimize the negative Sharpe Ratio -> Maximize it\"\"\"\n",
    "    numAssets = len(meanReturns)\n",
    "    args = (meanReturns, covMatrix, riskFreeRate)\n",
    "    constraints = ({'type':'eq','fun': lambda x: np.sum(x) - 1 }) # Weights must sum up to 1\n",
    "    bound = constraintSet\n",
    "    bounds = tuple(bound for asset in range(numAssets)) # For every asset have this bound\n",
    "    result = sc.minimize(negativeSR, x0=numAssets*[1./numAssets], args=args, \n",
    "                         method='SLSQP', bounds=bounds, constraints=constraints)\n",
    "    return result\n",
    "\n",
    "def minimizeVariance(meanReturns, covMatrix, riskFreeRate = 0, constraintSet = (0, 1)):\n",
    "    \"\"\" Minimize the portfolio variance by altering the weights/allocations of assets in the portfolio\"\"\"\n",
    "    numAssets = len(meanReturns)\n",
    "    args = (meanReturns, covMatrix)\n",
    "    constraints = ({'type':'eq','fun': lambda x: np.sum(x) - 1 }) # Weights must sum up to 1\n",
    "    bound = constraintSet\n",
    "    bounds = tuple(bound for asset in range(numAssets)) # For every asset have this bound\n",
    "    result = sc.minimize(portfolioVariance, x0=numAssets*[1./numAssets], args=args, \n",
    "                         method='SLSQP', bounds=bounds, constraints=constraints)\n",
    "    return result\n",
    "\n",
    "def meanVarianceOptimiser(meanReturns, covMatrix, returnTarget, constraintSet=(0,1)):\n",
    "    \"\"\" For each return target, optimize the portfolio for minimum variance\"\"\"\n",
    "    numAssets = len(meanReturns)\n",
    "    args = (meanReturns, covMatrix)\n",
    "    constraints = ({'type':'eq', 'fun':lambda x: portfolioReturn(x, meanReturns, covMatrix) - returnTarget},\n",
    "                   {'type':'eq','fun': lambda x: np.sum(x) - 1 }\n",
    "                   )\n",
    "    bound = constraintSet\n",
    "    bounds = tuple(bound for asset in range(numAssets))\n",
    "    optimizedResults = sc.minimize(portfolioVariance, numAssets*[1./numAssets], args=args, \n",
    "                                   method='SLSQP', constraints=constraints, bounds=bounds)\n",
    "    return optimizedResults\n",
    "\n",
    "def eqWeightPortfolioPerformance(meanReturns, covMatrix, returns):\n",
    "    \"\"\" Return the Performance of an Equally Weighted Portfolio\"\"\"\n",
    "    weights = np.array([1/100 for _ in returns])\n",
    "    equalWeightedPortfolioReturns, equalWeightedPortfolioVolatility = portfolioPerformance(weights, meanReturns, covMatrix)\n",
    "    equalWeightedPortfolioSR = (-1) * negativeSR(weights, meanReturns, covMatrix)\n",
    "    print(f\"Equal Weighted Portfolio Returns: {round(equalWeightedPortfolioReturns, 2)} %\")\n",
    "    print(f\"Equal Weighted Portfolio Volatility: {round(equalWeightedPortfolioVolatility, 2)} %\")\n",
    "    print(f\"Equal Weighted Portfolio SR: {round(equalWeightedPortfolioSR, 2)}\")\n",
    "    return equalWeightedPortfolioReturns, equalWeightedPortfolioVolatility, equalWeightedPortfolioSR\n",
    "    \n",
    "def maxSRPortfolioPerformance(meanReturns, covMatrix):\n",
    "    \"\"\" Return the Performance of the Maximum SR Portfolio\"\"\"\n",
    "    maxSRPortfolioPerformance = maxSR(meanReturns, covMatrix)\n",
    "    maxSRPortfolioWeights = maxSRPortfolioPerformance.x\n",
    "    maxSRPortfolioReturns, maxSRPortfolioVolatility = portfolioPerformance(maxSRPortfolioWeights, meanReturns, covMatrix)\n",
    "    maxSRPortfolioSR = maxSRPortfolioPerformance.fun * (-1)\n",
    "    print(f\"Max SR Portfolio Returns: {round(maxSRPortfolioReturns, 2)} %\")\n",
    "    print(f\"Max SR Portfolio Volatility: {round(maxSRPortfolioVolatility, 2)} %\")\n",
    "    print(f\"Max SR Portfolio SR: {round(maxSRPortfolioSR, 2)}\")\n",
    "    return maxSRPortfolioReturns, maxSRPortfolioVolatility, maxSRPortfolioSR, maxSRPortfolioWeights\n",
    "\n",
    "def minVariancePortfolioPerformance(meanReturns, covMatrix):\n",
    "    \"\"\" Return the Performance of the Minimum Variance Portfolio\"\"\"\n",
    "    minVariancePortfolioPerformance = minimizeVariance(meanReturns, covMatrix)\n",
    "    minVariancePortfolioWeights = minVariancePortfolioPerformance.x\n",
    "    minVariancePortfolioReturns, minVariancePortfolioVolatility = portfolioPerformance(minVariancePortfolioWeights, meanReturns, covMatrix)\n",
    "    minVariancePortfolioSR = (-1) * negativeSR(minVariancePortfolioWeights, meanReturns, covMatrix)\n",
    "    print(f\"Min Variance Portfolio Returns: {round(minVariancePortfolioReturns, 2)} %\")\n",
    "    print(f\"Min Variance Portfolio Volatility: {round(minVariancePortfolioVolatility, 2)} %\")\n",
    "    print(f\"Min Variance Portfolio SR: {round(minVariancePortfolioSR, 2)}\")\n",
    "    return minVariancePortfolioReturns, minVariancePortfolioVolatility, minVariancePortfolioSR, minVariancePortfolioWeights\n",
    "\n",
    "def EF_generator(minVariancePortfolioReturns, maxSRPortfolioReturns, meanReturns, covMatrix):\n",
    "    \"\"\" Generate the List for the Efficient Frontier\"\"\"\n",
    "    targetReturns = np.linspace(minVariancePortfolioReturns, maxSRPortfolioReturns, 30)\n",
    "    efficientFrontier = []\n",
    "    for target in targetReturns:\n",
    "        efficientFrontier.append(meanVarianceOptimiser(meanReturns, covMatrix, returnTarget=target)['fun'])\n",
    "    return efficientFrontier, targetReturns\n",
    "\n",
    "def EF_graph(meanReturns, covMatrix, riskFreeRate = 0, constraintSet = (0, 1)):\n",
    "    \"\"\" Return a Graph plotting the min vol, max sr, and efficient frontier\"\"\"\n",
    "    maxSRPortfolioRet, maxSRPortfolioVol, maxSRPortfolioSR, maxSRPortfolioWeights = maxSRPortfolioPerformance(meanReturns, covMatrix)\n",
    "    minVarPortfolioRet, minVarPortfolioVol, minVarPortfolioSR, minVariancePortfolioWeights = minVariancePortfolioPerformance(meanReturns, covMatrix)\n",
    "\n",
    "    efficientList, targetReturns = EF_generator(minVarPortfolioRet, maxSRPortfolioRet, meanReturns, covMatrix)\n",
    "\n",
    "    # Plot the Max SR\n",
    "    MaxSharpeRatio = go.Scatter(\n",
    "        name='Max Sharpe Ratio',\n",
    "        mode='markers',\n",
    "        x = [maxSRPortfolioVol],\n",
    "        y = [maxSRPortfolioRet],\n",
    "        marker = dict(color='red', size=14, line=dict(width=3, color='black') )\n",
    "    )\n",
    "\n",
    "    # Plot the Min vol\n",
    "    MinVol = go.Scatter(\n",
    "        name='Min Volatility',\n",
    "        mode='markers',\n",
    "        x = [minVarPortfolioVol],\n",
    "        y = [minVarPortfolioRet],\n",
    "        marker = dict(color='green', size=14, line=dict(width=3, color='black') )\n",
    "    )\n",
    "\n",
    "    # Plot the Efficient Frontier\n",
    "    EF_curve = go.Scatter(\n",
    "        name='Efficient Frontier',\n",
    "        mode='lines',\n",
    "        x = [round(ef_std, 2) for ef_std in efficientList],\n",
    "        y = [round(target, 2) for target in targetReturns],\n",
    "        line = dict(color='black', width=4, dash='dashdot')\n",
    "    )\n",
    "\n",
    "    data = [MaxSharpeRatio, MinVol, EF_curve]\n",
    "    \n",
    "    layout = go.Layout(\n",
    "        title = 'Portfolio Optimization via a Mean Variance Optimiser',\n",
    "        yaxis = dict(title='Annualized Returns (%)'),\n",
    "        xaxis= dict(title='Annualized Volatility (%)'),\n",
    "        showlegend= True,\n",
    "        legend= dict(\n",
    "                    x=0.7, \n",
    "                    y=0, \n",
    "                    traceorder='normal', \n",
    "                    bgcolor='#E2E2E2', \n",
    "                    bordercolor='black', \n",
    "                    borderwidth=2),\n",
    "        width=800,\n",
    "        height=600)\n",
    "    \n",
    "    fig = go.Figure(data=data, layout=layout)\n",
    "    return fig.show()"
   ]
  },
  {
   "cell_type": "markdown",
   "metadata": {},
   "source": [
    "# Mean Returns and CovMatrix"
   ]
  },
  {
   "cell_type": "code",
   "execution_count": 7,
   "metadata": {},
   "outputs": [],
   "source": [
    "meanReturns = returns.mean()\n",
    "covMatrix = returns.cov()"
   ]
  },
  {
   "cell_type": "markdown",
   "metadata": {},
   "source": [
    "# Equal Weighted Portfolio"
   ]
  },
  {
   "cell_type": "code",
   "execution_count": 8,
   "metadata": {},
   "outputs": [
    {
     "name": "stdout",
     "output_type": "stream",
     "text": [
      "Equal Weighted Portfolio Returns: 15.93 %\n",
      "Equal Weighted Portfolio Volatility: 18.62 %\n",
      "Equal Weighted Portfolio SR: 0.86\n"
     ]
    }
   ],
   "source": [
    "equalWeightedPortfolioRet, equalWeightedPortfolioVol, equalWeightedPortfolioSR = eqWeightPortfolioPerformance(meanReturns, \n",
    "                                                                                                              covMatrix, \n",
    "                                                                                                              returns)"
   ]
  },
  {
   "cell_type": "markdown",
   "metadata": {},
   "source": [
    "# Max Sharpe Ratio Portfolio"
   ]
  },
  {
   "cell_type": "code",
   "execution_count": 9,
   "metadata": {},
   "outputs": [
    {
     "name": "stdout",
     "output_type": "stream",
     "text": [
      "Max SR Portfolio Returns: 22.68 %\n",
      "Max SR Portfolio Volatility: 15.51 %\n",
      "Max SR Portfolio SR: 1.46\n"
     ]
    }
   ],
   "source": [
    "maxSRPortfolioRet, maxSRPortfolioVol, maxSRPortfolioSR, maxSRPortfolioWeights = maxSRPortfolioPerformance(meanReturns, covMatrix)"
   ]
  },
  {
   "cell_type": "markdown",
   "metadata": {},
   "source": [
    "# Minimum Variance Portfolio"
   ]
  },
  {
   "cell_type": "code",
   "execution_count": 10,
   "metadata": {},
   "outputs": [
    {
     "name": "stdout",
     "output_type": "stream",
     "text": [
      "Min Variance Portfolio Returns: 13.33 %\n",
      "Min Variance Portfolio Volatility: 12.82 %\n",
      "Min Variance Portfolio SR: 1.04\n"
     ]
    }
   ],
   "source": [
    "minVarPortfolioRet, minVarPortfolioVol, minVarPortfolioSR, minVariancePortfolioWeights = minVariancePortfolioPerformance(meanReturns, covMatrix)"
   ]
  },
  {
   "cell_type": "markdown",
   "metadata": {},
   "source": [
    "# Mean Variance Portfolio"
   ]
  },
  {
   "cell_type": "code",
   "execution_count": 28,
   "metadata": {},
   "outputs": [
    {
     "data": {
      "text/plain": [
       "[12.818748132709013,\n",
       " 12.82246822484856,\n",
       " 12.832419277206048,\n",
       " 12.848318661294227,\n",
       " 12.870165709244045,\n",
       " 12.898034713667773,\n",
       " 12.931900930103385,\n",
       " 12.971716741186572,\n",
       " 13.017407310900692,\n",
       " 13.068834797868101,\n",
       " 13.125900770473367,\n",
       " 13.188588048824206,\n",
       " 13.258200385097119,\n",
       " 13.33450616018247,\n",
       " 13.417167002607796,\n",
       " 13.507110962388374,\n",
       " 13.603999790370125,\n",
       " 13.707349804897206,\n",
       " 13.81685921938083,\n",
       " 13.932379397355094,\n",
       " 14.053862875690633,\n",
       " 14.181706790215234,\n",
       " 14.31604959171549,\n",
       " 14.457347422253317,\n",
       " 14.606327599117483,\n",
       " 14.763089744897155,\n",
       " 14.92759763802915,\n",
       " 15.103770411722216,\n",
       " 15.297944993299229,\n",
       " 15.509766692328721]"
      ]
     },
     "execution_count": 28,
     "metadata": {},
     "output_type": "execute_result"
    }
   ],
   "source": [
    "EF_generator(minVarPortfolioRet, maxSRPortfolioRet, meanReturns, covMatrix)"
   ]
  },
  {
   "cell_type": "code",
   "execution_count": 21,
   "metadata": {},
   "outputs": [
    {
     "name": "stdout",
     "output_type": "stream",
     "text": [
      "Max SR Portfolio Returns: 22.68 %\n",
      "Max SR Portfolio Volatility: 15.51 %\n",
      "Max SR Portfolio SR: 1.46\n",
      "Min Variance Portfolio Returns: 13.33 %\n",
      "Min Variance Portfolio Volatility: 12.82 %\n",
      "Min Variance Portfolio SR: 1.04\n"
     ]
    },
    {
     "data": {
      "application/vnd.plotly.v1+json": {
       "config": {
        "plotlyServerURL": "https://plot.ly"
       },
       "data": [
        {
         "marker": {
          "color": "red",
          "line": {
           "color": "black",
           "width": 3
          },
          "size": 14
         },
         "mode": "markers",
         "name": "Max Sharpe Ratio",
         "type": "scatter",
         "x": [
          15.509767741809984
         ],
         "y": [
          22.681563109201992
         ]
        },
        {
         "marker": {
          "color": "green",
          "line": {
           "color": "black",
           "width": 3
          },
          "size": 14
         },
         "mode": "markers",
         "name": "Min Volatility",
         "type": "scatter",
         "x": [
          12.818747708450138
         ],
         "y": [
          13.33147201486067
         ]
        },
        {
         "line": {
          "color": "black",
          "dash": "dashdot",
          "width": 4
         },
         "mode": "lines",
         "name": "Efficient Frontier",
         "type": "scatter",
         "x": [
          12.82,
          12.82,
          12.83,
          12.85,
          12.87,
          12.9,
          12.93,
          12.97,
          13.02,
          13.07,
          13.13,
          13.19,
          13.26,
          13.33,
          13.42,
          13.51,
          13.6,
          13.71,
          13.82,
          13.93,
          14.05,
          14.18,
          14.32,
          14.46,
          14.61,
          14.76,
          14.93,
          15.1,
          15.3,
          15.51
         ],
         "y": [
          13.33,
          13.65,
          13.98,
          14.3,
          14.62,
          14.94,
          15.27,
          15.59,
          15.91,
          16.23,
          16.56,
          16.88,
          17.2,
          17.52,
          17.85,
          18.17,
          18.49,
          18.81,
          19.13,
          19.46,
          19.78,
          20.1,
          20.42,
          20.75,
          21.07,
          21.39,
          21.71,
          22.04,
          22.36,
          22.68
         ]
        }
       ],
       "layout": {
        "height": 600,
        "legend": {
         "bgcolor": "#E2E2E2",
         "bordercolor": "black",
         "borderwidth": 2,
         "traceorder": "normal",
         "x": 0.7,
         "y": 0
        },
        "showlegend": true,
        "template": {
         "data": {
          "bar": [
           {
            "error_x": {
             "color": "#2a3f5f"
            },
            "error_y": {
             "color": "#2a3f5f"
            },
            "marker": {
             "line": {
              "color": "#E5ECF6",
              "width": 0.5
             },
             "pattern": {
              "fillmode": "overlay",
              "size": 10,
              "solidity": 0.2
             }
            },
            "type": "bar"
           }
          ],
          "barpolar": [
           {
            "marker": {
             "line": {
              "color": "#E5ECF6",
              "width": 0.5
             },
             "pattern": {
              "fillmode": "overlay",
              "size": 10,
              "solidity": 0.2
             }
            },
            "type": "barpolar"
           }
          ],
          "carpet": [
           {
            "aaxis": {
             "endlinecolor": "#2a3f5f",
             "gridcolor": "white",
             "linecolor": "white",
             "minorgridcolor": "white",
             "startlinecolor": "#2a3f5f"
            },
            "baxis": {
             "endlinecolor": "#2a3f5f",
             "gridcolor": "white",
             "linecolor": "white",
             "minorgridcolor": "white",
             "startlinecolor": "#2a3f5f"
            },
            "type": "carpet"
           }
          ],
          "choropleth": [
           {
            "colorbar": {
             "outlinewidth": 0,
             "ticks": ""
            },
            "type": "choropleth"
           }
          ],
          "contour": [
           {
            "colorbar": {
             "outlinewidth": 0,
             "ticks": ""
            },
            "colorscale": [
             [
              0,
              "#0d0887"
             ],
             [
              0.1111111111111111,
              "#46039f"
             ],
             [
              0.2222222222222222,
              "#7201a8"
             ],
             [
              0.3333333333333333,
              "#9c179e"
             ],
             [
              0.4444444444444444,
              "#bd3786"
             ],
             [
              0.5555555555555556,
              "#d8576b"
             ],
             [
              0.6666666666666666,
              "#ed7953"
             ],
             [
              0.7777777777777778,
              "#fb9f3a"
             ],
             [
              0.8888888888888888,
              "#fdca26"
             ],
             [
              1,
              "#f0f921"
             ]
            ],
            "type": "contour"
           }
          ],
          "contourcarpet": [
           {
            "colorbar": {
             "outlinewidth": 0,
             "ticks": ""
            },
            "type": "contourcarpet"
           }
          ],
          "heatmap": [
           {
            "colorbar": {
             "outlinewidth": 0,
             "ticks": ""
            },
            "colorscale": [
             [
              0,
              "#0d0887"
             ],
             [
              0.1111111111111111,
              "#46039f"
             ],
             [
              0.2222222222222222,
              "#7201a8"
             ],
             [
              0.3333333333333333,
              "#9c179e"
             ],
             [
              0.4444444444444444,
              "#bd3786"
             ],
             [
              0.5555555555555556,
              "#d8576b"
             ],
             [
              0.6666666666666666,
              "#ed7953"
             ],
             [
              0.7777777777777778,
              "#fb9f3a"
             ],
             [
              0.8888888888888888,
              "#fdca26"
             ],
             [
              1,
              "#f0f921"
             ]
            ],
            "type": "heatmap"
           }
          ],
          "heatmapgl": [
           {
            "colorbar": {
             "outlinewidth": 0,
             "ticks": ""
            },
            "colorscale": [
             [
              0,
              "#0d0887"
             ],
             [
              0.1111111111111111,
              "#46039f"
             ],
             [
              0.2222222222222222,
              "#7201a8"
             ],
             [
              0.3333333333333333,
              "#9c179e"
             ],
             [
              0.4444444444444444,
              "#bd3786"
             ],
             [
              0.5555555555555556,
              "#d8576b"
             ],
             [
              0.6666666666666666,
              "#ed7953"
             ],
             [
              0.7777777777777778,
              "#fb9f3a"
             ],
             [
              0.8888888888888888,
              "#fdca26"
             ],
             [
              1,
              "#f0f921"
             ]
            ],
            "type": "heatmapgl"
           }
          ],
          "histogram": [
           {
            "marker": {
             "pattern": {
              "fillmode": "overlay",
              "size": 10,
              "solidity": 0.2
             }
            },
            "type": "histogram"
           }
          ],
          "histogram2d": [
           {
            "colorbar": {
             "outlinewidth": 0,
             "ticks": ""
            },
            "colorscale": [
             [
              0,
              "#0d0887"
             ],
             [
              0.1111111111111111,
              "#46039f"
             ],
             [
              0.2222222222222222,
              "#7201a8"
             ],
             [
              0.3333333333333333,
              "#9c179e"
             ],
             [
              0.4444444444444444,
              "#bd3786"
             ],
             [
              0.5555555555555556,
              "#d8576b"
             ],
             [
              0.6666666666666666,
              "#ed7953"
             ],
             [
              0.7777777777777778,
              "#fb9f3a"
             ],
             [
              0.8888888888888888,
              "#fdca26"
             ],
             [
              1,
              "#f0f921"
             ]
            ],
            "type": "histogram2d"
           }
          ],
          "histogram2dcontour": [
           {
            "colorbar": {
             "outlinewidth": 0,
             "ticks": ""
            },
            "colorscale": [
             [
              0,
              "#0d0887"
             ],
             [
              0.1111111111111111,
              "#46039f"
             ],
             [
              0.2222222222222222,
              "#7201a8"
             ],
             [
              0.3333333333333333,
              "#9c179e"
             ],
             [
              0.4444444444444444,
              "#bd3786"
             ],
             [
              0.5555555555555556,
              "#d8576b"
             ],
             [
              0.6666666666666666,
              "#ed7953"
             ],
             [
              0.7777777777777778,
              "#fb9f3a"
             ],
             [
              0.8888888888888888,
              "#fdca26"
             ],
             [
              1,
              "#f0f921"
             ]
            ],
            "type": "histogram2dcontour"
           }
          ],
          "mesh3d": [
           {
            "colorbar": {
             "outlinewidth": 0,
             "ticks": ""
            },
            "type": "mesh3d"
           }
          ],
          "parcoords": [
           {
            "line": {
             "colorbar": {
              "outlinewidth": 0,
              "ticks": ""
             }
            },
            "type": "parcoords"
           }
          ],
          "pie": [
           {
            "automargin": true,
            "type": "pie"
           }
          ],
          "scatter": [
           {
            "fillpattern": {
             "fillmode": "overlay",
             "size": 10,
             "solidity": 0.2
            },
            "type": "scatter"
           }
          ],
          "scatter3d": [
           {
            "line": {
             "colorbar": {
              "outlinewidth": 0,
              "ticks": ""
             }
            },
            "marker": {
             "colorbar": {
              "outlinewidth": 0,
              "ticks": ""
             }
            },
            "type": "scatter3d"
           }
          ],
          "scattercarpet": [
           {
            "marker": {
             "colorbar": {
              "outlinewidth": 0,
              "ticks": ""
             }
            },
            "type": "scattercarpet"
           }
          ],
          "scattergeo": [
           {
            "marker": {
             "colorbar": {
              "outlinewidth": 0,
              "ticks": ""
             }
            },
            "type": "scattergeo"
           }
          ],
          "scattergl": [
           {
            "marker": {
             "colorbar": {
              "outlinewidth": 0,
              "ticks": ""
             }
            },
            "type": "scattergl"
           }
          ],
          "scattermapbox": [
           {
            "marker": {
             "colorbar": {
              "outlinewidth": 0,
              "ticks": ""
             }
            },
            "type": "scattermapbox"
           }
          ],
          "scatterpolar": [
           {
            "marker": {
             "colorbar": {
              "outlinewidth": 0,
              "ticks": ""
             }
            },
            "type": "scatterpolar"
           }
          ],
          "scatterpolargl": [
           {
            "marker": {
             "colorbar": {
              "outlinewidth": 0,
              "ticks": ""
             }
            },
            "type": "scatterpolargl"
           }
          ],
          "scatterternary": [
           {
            "marker": {
             "colorbar": {
              "outlinewidth": 0,
              "ticks": ""
             }
            },
            "type": "scatterternary"
           }
          ],
          "surface": [
           {
            "colorbar": {
             "outlinewidth": 0,
             "ticks": ""
            },
            "colorscale": [
             [
              0,
              "#0d0887"
             ],
             [
              0.1111111111111111,
              "#46039f"
             ],
             [
              0.2222222222222222,
              "#7201a8"
             ],
             [
              0.3333333333333333,
              "#9c179e"
             ],
             [
              0.4444444444444444,
              "#bd3786"
             ],
             [
              0.5555555555555556,
              "#d8576b"
             ],
             [
              0.6666666666666666,
              "#ed7953"
             ],
             [
              0.7777777777777778,
              "#fb9f3a"
             ],
             [
              0.8888888888888888,
              "#fdca26"
             ],
             [
              1,
              "#f0f921"
             ]
            ],
            "type": "surface"
           }
          ],
          "table": [
           {
            "cells": {
             "fill": {
              "color": "#EBF0F8"
             },
             "line": {
              "color": "white"
             }
            },
            "header": {
             "fill": {
              "color": "#C8D4E3"
             },
             "line": {
              "color": "white"
             }
            },
            "type": "table"
           }
          ]
         },
         "layout": {
          "annotationdefaults": {
           "arrowcolor": "#2a3f5f",
           "arrowhead": 0,
           "arrowwidth": 1
          },
          "autotypenumbers": "strict",
          "coloraxis": {
           "colorbar": {
            "outlinewidth": 0,
            "ticks": ""
           }
          },
          "colorscale": {
           "diverging": [
            [
             0,
             "#8e0152"
            ],
            [
             0.1,
             "#c51b7d"
            ],
            [
             0.2,
             "#de77ae"
            ],
            [
             0.3,
             "#f1b6da"
            ],
            [
             0.4,
             "#fde0ef"
            ],
            [
             0.5,
             "#f7f7f7"
            ],
            [
             0.6,
             "#e6f5d0"
            ],
            [
             0.7,
             "#b8e186"
            ],
            [
             0.8,
             "#7fbc41"
            ],
            [
             0.9,
             "#4d9221"
            ],
            [
             1,
             "#276419"
            ]
           ],
           "sequential": [
            [
             0,
             "#0d0887"
            ],
            [
             0.1111111111111111,
             "#46039f"
            ],
            [
             0.2222222222222222,
             "#7201a8"
            ],
            [
             0.3333333333333333,
             "#9c179e"
            ],
            [
             0.4444444444444444,
             "#bd3786"
            ],
            [
             0.5555555555555556,
             "#d8576b"
            ],
            [
             0.6666666666666666,
             "#ed7953"
            ],
            [
             0.7777777777777778,
             "#fb9f3a"
            ],
            [
             0.8888888888888888,
             "#fdca26"
            ],
            [
             1,
             "#f0f921"
            ]
           ],
           "sequentialminus": [
            [
             0,
             "#0d0887"
            ],
            [
             0.1111111111111111,
             "#46039f"
            ],
            [
             0.2222222222222222,
             "#7201a8"
            ],
            [
             0.3333333333333333,
             "#9c179e"
            ],
            [
             0.4444444444444444,
             "#bd3786"
            ],
            [
             0.5555555555555556,
             "#d8576b"
            ],
            [
             0.6666666666666666,
             "#ed7953"
            ],
            [
             0.7777777777777778,
             "#fb9f3a"
            ],
            [
             0.8888888888888888,
             "#fdca26"
            ],
            [
             1,
             "#f0f921"
            ]
           ]
          },
          "colorway": [
           "#636efa",
           "#EF553B",
           "#00cc96",
           "#ab63fa",
           "#FFA15A",
           "#19d3f3",
           "#FF6692",
           "#B6E880",
           "#FF97FF",
           "#FECB52"
          ],
          "font": {
           "color": "#2a3f5f"
          },
          "geo": {
           "bgcolor": "white",
           "lakecolor": "white",
           "landcolor": "#E5ECF6",
           "showlakes": true,
           "showland": true,
           "subunitcolor": "white"
          },
          "hoverlabel": {
           "align": "left"
          },
          "hovermode": "closest",
          "mapbox": {
           "style": "light"
          },
          "paper_bgcolor": "white",
          "plot_bgcolor": "#E5ECF6",
          "polar": {
           "angularaxis": {
            "gridcolor": "white",
            "linecolor": "white",
            "ticks": ""
           },
           "bgcolor": "#E5ECF6",
           "radialaxis": {
            "gridcolor": "white",
            "linecolor": "white",
            "ticks": ""
           }
          },
          "scene": {
           "xaxis": {
            "backgroundcolor": "#E5ECF6",
            "gridcolor": "white",
            "gridwidth": 2,
            "linecolor": "white",
            "showbackground": true,
            "ticks": "",
            "zerolinecolor": "white"
           },
           "yaxis": {
            "backgroundcolor": "#E5ECF6",
            "gridcolor": "white",
            "gridwidth": 2,
            "linecolor": "white",
            "showbackground": true,
            "ticks": "",
            "zerolinecolor": "white"
           },
           "zaxis": {
            "backgroundcolor": "#E5ECF6",
            "gridcolor": "white",
            "gridwidth": 2,
            "linecolor": "white",
            "showbackground": true,
            "ticks": "",
            "zerolinecolor": "white"
           }
          },
          "shapedefaults": {
           "line": {
            "color": "#2a3f5f"
           }
          },
          "ternary": {
           "aaxis": {
            "gridcolor": "white",
            "linecolor": "white",
            "ticks": ""
           },
           "baxis": {
            "gridcolor": "white",
            "linecolor": "white",
            "ticks": ""
           },
           "bgcolor": "#E5ECF6",
           "caxis": {
            "gridcolor": "white",
            "linecolor": "white",
            "ticks": ""
           }
          },
          "title": {
           "x": 0.05
          },
          "xaxis": {
           "automargin": true,
           "gridcolor": "white",
           "linecolor": "white",
           "ticks": "",
           "title": {
            "standoff": 15
           },
           "zerolinecolor": "white",
           "zerolinewidth": 2
          },
          "yaxis": {
           "automargin": true,
           "gridcolor": "white",
           "linecolor": "white",
           "ticks": "",
           "title": {
            "standoff": 15
           },
           "zerolinecolor": "white",
           "zerolinewidth": 2
          }
         }
        },
        "title": {
         "text": "Portfolio Optimization via a Mean Variance Optimiser"
        },
        "width": 800,
        "xaxis": {
         "title": {
          "text": "Annualized Volatility (%)"
         }
        },
        "yaxis": {
         "title": {
          "text": "Annualized Returns (%)"
         }
        }
       }
      }
     },
     "metadata": {},
     "output_type": "display_data"
    }
   ],
   "source": [
    "EF_graph(meanReturns, covMatrix)"
   ]
  },
  {
   "cell_type": "code",
   "execution_count": null,
   "metadata": {},
   "outputs": [],
   "source": []
  }
 ],
 "metadata": {
  "kernelspec": {
   "display_name": "Python 3",
   "language": "python",
   "name": "python3"
  },
  "language_info": {
   "codemirror_mode": {
    "name": "ipython",
    "version": 3
   },
   "file_extension": ".py",
   "mimetype": "text/x-python",
   "name": "python",
   "nbconvert_exporter": "python",
   "pygments_lexer": "ipython3",
   "version": "3.11.3"
  }
 },
 "nbformat": 4,
 "nbformat_minor": 2
}
