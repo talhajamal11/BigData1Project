{
 "cells": [
  {
   "cell_type": "markdown",
   "metadata": {},
   "source": [
    "# Import Data"
   ]
  },
  {
   "cell_type": "code",
   "execution_count": 63,
   "metadata": {},
   "outputs": [],
   "source": [
    "import os\n",
    "import pandas as pd\n",
    "import numpy as np\n",
    "import scipy.optimize as sc "
   ]
  },
  {
   "cell_type": "code",
   "execution_count": 60,
   "metadata": {},
   "outputs": [],
   "source": [
    "# Import data from files\n",
    "os.chdir('/Users/talhajamal/Desktop/Code/BigData1Project')\n",
    "data = pd.read_csv(\"data/Returns_Data.csv\")\n",
    "data['date'] = pd.to_datetime(data['date'], dayfirst=False)\n",
    "characteristics = pd.read_csv(\"data/Stock_Characteristics_Data.csv\")\n",
    "dictionary = pd.read_excel(\"data/StockDataDictionary.xlsx\")\n",
    "\n",
    "# Create new dataframes\n",
    "prices = data.pivot(index='date', columns='ticker', values='PRC')\n",
    "volume = data.pivot(index='date', columns='ticker', values='VOL')\n",
    "returns = data.pivot(index='date', columns='ticker', values='RET')\n",
    "#returns = returns * 100 # Scale returns to percentage\n",
    "# Summary of Returns\n",
    "returns_summary = returns.describe()\n",
    "shares_outstanding = data.pivot(index='date', columns='ticker', values='SHROUT')\n",
    "value_weighted_returns = data.pivot(index='date', columns='ticker', values='vwretd')\n",
    "equal_weighted_returns = data.pivot(index='date', columns='ticker', values='ewretd')\n",
    "tickers = prices.columns # List of Tickers"
   ]
  },
  {
   "cell_type": "markdown",
   "metadata": {},
   "source": [
    "# Functions"
   ]
  },
  {
   "cell_type": "code",
   "execution_count": 115,
   "metadata": {},
   "outputs": [],
   "source": [
    "def portfolioPerformance(weights, meanReturns, covMatrix):\n",
    "    \"\"\" Calculate Portfolio Performance\"\"\"\n",
    "    annualizedReturns = np.sum(meanReturns*weights)*252\n",
    "    annualizedStd = np.sqrt( np.dot(weights.T, np.dot(covMatrix, weights)) ) * np.sqrt(252)\n",
    "    return annualizedReturns*100, annualizedStd*100\n",
    "\n",
    "def negativeSR(weights, meanReturns, covMatrix,riskFreeRate = 0):\n",
    "    \"\"\" Calculate Negative Sharpe so that Optimizer works on it and minimizes it -> essentially maximising it\"\"\"\n",
    "    annualizedRet, annualizedStd = portfolioPerformance(weights, meanReturns, covMatrix)\n",
    "    return - ((annualizedRet - riskFreeRate)/annualizedStd)\n",
    "\n",
    "def maxSR(meanReturns, covMatrix, riskFreeRate = 0, constraintSet = (0, 1)):\n",
    "    \"\"\" Minimize the negative Sharpe Ratio -> Maximize it\"\"\"\n",
    "    numAssets = len(meanReturns)\n",
    "    args = (meanReturns, covMatrix, riskFreeRate)\n",
    "    constraints = ({'type':'eq','fun': lambda x: np.sum(x) - 1 }) # Weights must sum up to 1\n",
    "    bound = constraintSet\n",
    "    bounds = tuple(bound for asset in range(numAssets)) # For every asset have this bound\n",
    "    result = sc.minimize(negativeSR, x0=numAssets*[1./numAssets], args=args, \n",
    "                         method='SLSQP', bounds=bounds, constraints=constraints)\n",
    "    return result\n",
    "\n",
    "def portfolioVariance(weights, meanReturns, covMatrix):\n",
    "    return portfolioPerformance(weights, meanReturns, covMatrix)[1]\n",
    "\n",
    "def minimizeVariance(meanReturns, covMatrix, riskFreeRate = 0, constraintSet = (0, 1)):\n",
    "    \"\"\" Minimize the portfolio variance by altering the weights/allocations of assets in the portfolio\"\"\"\n",
    "    numAssets = len(meanReturns)\n",
    "    args = (meanReturns, covMatrix, riskFreeRate)\n",
    "    constraints = ({'type':'eq','fun': lambda x: np.sum(x) - 1 }) # Weights must sum up to 1\n",
    "    bound = constraintSet\n",
    "    bounds = tuple(bound for asset in range(numAssets)) # For every asset have this bound\n",
    "    result = sc.minimize(portfolioVariance, x0=numAssets*[1./numAssets], args=args, \n",
    "                         method='SLSQP', bounds=bounds, constraints=constraints)\n",
    "    return result"
   ]
  },
  {
   "cell_type": "markdown",
   "metadata": {},
   "source": [
    "# Test Functions"
   ]
  },
  {
   "cell_type": "code",
   "execution_count": 113,
   "metadata": {},
   "outputs": [
    {
     "name": "stdout",
     "output_type": "stream",
     "text": [
      "Equal Weighted Portfolio Returns:  15.931604359696639 %\n",
      "Equal Weighted Portfolio Volatility:  18.619823475582756 %\n",
      "Sharpe -0.8556259612551466\n",
      "Optimized Equal Weighted Portfolio Sharpe: 1.4624\n"
     ]
    }
   ],
   "source": [
    "eqWeights = np.array([1/100 for x in returns])\n",
    "meanReturns = returns.mean()\n",
    "covMatrix = returns.cov()\n",
    "equalWeightedRet, equalWeightedVol = portfolioPerformance(eqWeights, meanReturns, covMatrix)\n",
    "print(\"Equal Weighted Portfolio Returns: \", equalWeightedRet, \"%\")\n",
    "print(\"Equal Weighted Portfolio Volatility: \", equalWeightedVol, \"%\")\n",
    "print(\"Sharpe\", negativeSR(eqWeights, meanReturns, covMatrix))\n",
    "eqWeightedPortfolioOptimization = maxSR(meanReturns, covMatrix, riskFreeRate=0)\n",
    "eqWeightMaxSR = round(eqWeightedPortfolioOptimization.fun * (-1), 4)\n",
    "print(\"Optimized Equal Weighted Portfolio Sharpe:\", eqWeightMaxSR)\n",
    "eqWeightedPortfolioWeights = eqWeightedPortfolioOptimization.x"
   ]
  },
  {
   "cell_type": "code",
   "execution_count": 114,
   "metadata": {},
   "outputs": [
    {
     "name": "stdout",
     "output_type": "stream",
     "text": [
      "Optimized Equal Weighted Portfolio Returns:  22.681563109201992 %\n",
      "Optimized Equal Weighted Portfolio Volatility:  15.509767741809984 %\n"
     ]
    }
   ],
   "source": [
    "optimizedEqualWeightedRet, optimizedEqualWeightedVol = portfolioPerformance(eqWeightedPortfolioWeights, meanReturns, covMatrix)\n",
    "print(\"Optimized Equal Weighted Portfolio Returns: \", optimizedEqualWeightedRet, \"%\")\n",
    "print(\"Optimized Equal Weighted Portfolio Volatility: \", optimizedEqualWeightedVol, \"%\")"
   ]
  },
  {
   "cell_type": "code",
   "execution_count": null,
   "metadata": {},
   "outputs": [],
   "source": []
  }
 ],
 "metadata": {
  "kernelspec": {
   "display_name": "Python 3",
   "language": "python",
   "name": "python3"
  },
  "language_info": {
   "codemirror_mode": {
    "name": "ipython",
    "version": 3
   },
   "file_extension": ".py",
   "mimetype": "text/x-python",
   "name": "python",
   "nbconvert_exporter": "python",
   "pygments_lexer": "ipython3",
   "version": "3.11.3"
  }
 },
 "nbformat": 4,
 "nbformat_minor": 2
}
