{
 "cells": [
  {
   "cell_type": "markdown",
   "metadata": {},
   "source": [
    "# Import data"
   ]
  },
  {
   "cell_type": "code",
   "execution_count": 38,
   "metadata": {},
   "outputs": [],
   "source": [
    "import pandas as pd \n",
    "import numpy as np \n",
    "import matplotlib.pyplot as plt \n",
    "import os"
   ]
  },
  {
   "cell_type": "code",
   "execution_count": 29,
   "metadata": {},
   "outputs": [],
   "source": [
    "# Import data from files\n",
    "os.chdir('/Users/talhajamal/Desktop/Code/BigData1Project')\n",
    "data = pd.read_csv(\"data/Returns_Data.csv\")\n",
    "characteristics = pd.read_csv(\"data/Stock_Characteristics_Data.csv\")\n",
    "dictionary = pd.read_excel(\"data/StockDataDictionary.xlsx\")"
   ]
  },
  {
   "cell_type": "code",
   "execution_count": 45,
   "metadata": {},
   "outputs": [],
   "source": [
    "# Create new dataframes\n",
    "prices = data.pivot(index='date', columns='ticker', values='PRC')\n",
    "volume = data.pivot(index='date', columns='ticker', values='VOL')\n",
    "returns = data.pivot(index='date', columns='ticker', values='RET')\n",
    "returns_summary = returns.describe()\n",
    "shares_outstanding = data.pivot(index='date', columns='ticker', values='SHROUT')\n",
    "value_weighted_returns = data.pivot(index='date', columns='ticker', values='vwretd')\n",
    "equal_weighted_returns = data.pivot(index='date', columns='ticker', values='ewretd')\n",
    "tickers = prices.columns"
   ]
  },
  {
   "cell_type": "code",
   "execution_count": null,
   "metadata": {},
   "outputs": [],
   "source": []
  }
 ],
 "metadata": {
  "kernelspec": {
   "display_name": "Python 3",
   "language": "python",
   "name": "python3"
  },
  "language_info": {
   "codemirror_mode": {
    "name": "ipython",
    "version": 3
   },
   "file_extension": ".py",
   "mimetype": "text/x-python",
   "name": "python",
   "nbconvert_exporter": "python",
   "pygments_lexer": "ipython3",
   "version": "3.11.3"
  }
 },
 "nbformat": 4,
 "nbformat_minor": 2
}
